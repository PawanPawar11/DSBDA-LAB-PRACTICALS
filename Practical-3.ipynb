{
 "cells": [
  {
   "cell_type": "code",
   "execution_count": 1,
   "id": "9ece5a74-e734-4bfa-90fb-2d0280809576",
   "metadata": {},
   "outputs": [],
   "source": [
    "import pandas as pd"
   ]
  },
  {
   "cell_type": "code",
   "execution_count": 3,
   "id": "a1845bbc-ffb6-4269-b862-3146693b2dbe",
   "metadata": {},
   "outputs": [],
   "source": [
    "data = {\n",
    "    'AgeGroup': ['18-25', '26-35', '36-45', '18-25', '26-35', '36-45', '18-25', '26-35', '36-45', '18-25'],\n",
    "    'Income': [25000, 40000, 60000, 30000, 45000, 65000, 28000, 42000, 62000, 26000]\n",
    "}"
   ]
  },
  {
   "cell_type": "code",
   "execution_count": 4,
   "id": "cdca9500-5363-4f01-aa86-ca3f7a6cca00",
   "metadata": {},
   "outputs": [],
   "source": [
    "df = pd.DataFrame(data)"
   ]
  },
  {
   "cell_type": "code",
   "execution_count": 5,
   "id": "f903ebd6-4beb-4c5a-80a9-749cb74e7373",
   "metadata": {},
   "outputs": [],
   "source": [
    "group_stats = df.groupby('AgeGroup')['Income'].agg(['mean', 'median', 'min', 'max', 'std'])"
   ]
  },
  {
   "cell_type": "code",
   "execution_count": 8,
   "id": "6d3d8a82-8aeb-40e1-8ab2-81fbb808040c",
   "metadata": {},
   "outputs": [
    {
     "name": "stdout",
     "output_type": "stream",
     "text": [
      "Summary Statistics grouped by AgeGroup:\n",
      "                  mean   median    min    max          std\n",
      "AgeGroup                                                  \n",
      "18-25     27250.000000  27000.0  25000  30000  2217.355783\n",
      "26-35     42333.333333  42000.0  40000  45000  2516.611478\n",
      "36-45     62333.333333  62000.0  60000  65000  2516.611478\n"
     ]
    }
   ],
   "source": [
    "print(\"Summary Statistics grouped by AgeGroup:\")\n",
    "print(group_stats)"
   ]
  },
  {
   "cell_type": "code",
   "execution_count": 9,
   "id": "5186dcd6-b918-4556-afa8-da7ffff7b95f",
   "metadata": {},
   "outputs": [],
   "source": [
    "age_codes = df['AgeGroup'].astype('category').cat.codes.tolist()"
   ]
  },
  {
   "cell_type": "code",
   "execution_count": 10,
   "id": "7800e8f6-5cd8-41c7-9df8-a4d1fbc8fd7c",
   "metadata": {},
   "outputs": [
    {
     "name": "stdout",
     "output_type": "stream",
     "text": [
      "Numeric codes for each AgeGroup response:\n",
      "[0, 1, 2, 0, 1, 2, 0, 1, 2, 0]\n"
     ]
    }
   ],
   "source": [
    "print(\"Numeric codes for each AgeGroup response:\")\n",
    "print(age_codes)"
   ]
  },
  {
   "cell_type": "code",
   "execution_count": 11,
   "id": "7ef605a0-4909-4d3f-a4d7-c3d34a92ece6",
   "metadata": {},
   "outputs": [],
   "source": [
    "from sklearn.datasets import load_iris"
   ]
  },
  {
   "cell_type": "code",
   "execution_count": 12,
   "id": "c7c44c7e-ed7d-49c4-b2bf-f59e9d347ef5",
   "metadata": {},
   "outputs": [],
   "source": [
    "iris_raw = load_iris(as_frame=True)\n",
    "iris_df = iris_raw.frame"
   ]
  },
  {
   "cell_type": "code",
   "execution_count": 13,
   "id": "fe55c384-ced6-4c21-b81b-23195857678f",
   "metadata": {},
   "outputs": [],
   "source": [
    "iris_df['species'] = iris_df['target'].map({0: 'Iris-setosa', 1: 'Iris-versicolor', 2: 'Iris-virginica'})"
   ]
  },
  {
   "cell_type": "code",
   "execution_count": 14,
   "id": "d71eabd1-bf18-46b7-82c8-b5617f85a3a0",
   "metadata": {},
   "outputs": [
    {
     "name": "stdout",
     "output_type": "stream",
     "text": [
      "\n",
      "Statistics for Iris-setosa:\n",
      "       sepal length (cm)  sepal width (cm)  petal length (cm)  \\\n",
      "count           50.00000         50.000000          50.000000   \n",
      "mean             5.00600          3.428000           1.462000   \n",
      "std              0.35249          0.379064           0.173664   \n",
      "min              4.30000          2.300000           1.000000   \n",
      "25%              4.80000          3.200000           1.400000   \n",
      "50%              5.00000          3.400000           1.500000   \n",
      "75%              5.20000          3.675000           1.575000   \n",
      "max              5.80000          4.400000           1.900000   \n",
      "\n",
      "       petal width (cm)  target  \n",
      "count         50.000000    50.0  \n",
      "mean           0.246000     0.0  \n",
      "std            0.105386     0.0  \n",
      "min            0.100000     0.0  \n",
      "25%            0.200000     0.0  \n",
      "50%            0.200000     0.0  \n",
      "75%            0.300000     0.0  \n",
      "max            0.600000     0.0  \n",
      "\n",
      "Statistics for Iris-versicolor:\n",
      "       sepal length (cm)  sepal width (cm)  petal length (cm)  \\\n",
      "count          50.000000         50.000000          50.000000   \n",
      "mean            5.936000          2.770000           4.260000   \n",
      "std             0.516171          0.313798           0.469911   \n",
      "min             4.900000          2.000000           3.000000   \n",
      "25%             5.600000          2.525000           4.000000   \n",
      "50%             5.900000          2.800000           4.350000   \n",
      "75%             6.300000          3.000000           4.600000   \n",
      "max             7.000000          3.400000           5.100000   \n",
      "\n",
      "       petal width (cm)  target  \n",
      "count         50.000000    50.0  \n",
      "mean           1.326000     1.0  \n",
      "std            0.197753     0.0  \n",
      "min            1.000000     1.0  \n",
      "25%            1.200000     1.0  \n",
      "50%            1.300000     1.0  \n",
      "75%            1.500000     1.0  \n",
      "max            1.800000     1.0  \n",
      "\n",
      "Statistics for Iris-virginica:\n",
      "       sepal length (cm)  sepal width (cm)  petal length (cm)  \\\n",
      "count           50.00000         50.000000          50.000000   \n",
      "mean             6.58800          2.974000           5.552000   \n",
      "std              0.63588          0.322497           0.551895   \n",
      "min              4.90000          2.200000           4.500000   \n",
      "25%              6.22500          2.800000           5.100000   \n",
      "50%              6.50000          3.000000           5.550000   \n",
      "75%              6.90000          3.175000           5.875000   \n",
      "max              7.90000          3.800000           6.900000   \n",
      "\n",
      "       petal width (cm)  target  \n",
      "count          50.00000    50.0  \n",
      "mean            2.02600     2.0  \n",
      "std             0.27465     0.0  \n",
      "min             1.40000     2.0  \n",
      "25%             1.80000     2.0  \n",
      "50%             2.00000     2.0  \n",
      "75%             2.30000     2.0  \n",
      "max             2.50000     2.0  \n"
     ]
    }
   ],
   "source": [
    "for species in ['Iris-setosa', 'Iris-versicolor', 'Iris-virginica']:\n",
    "    print(f\"\\nStatistics for {species}:\")\n",
    "    print(iris_df[iris_df['species'] == species].describe())"
   ]
  }
 ],
 "metadata": {
  "kernelspec": {
   "display_name": "Python 3 (ipykernel)",
   "language": "python",
   "name": "python3"
  },
  "language_info": {
   "codemirror_mode": {
    "name": "ipython",
    "version": 3
   },
   "file_extension": ".py",
   "mimetype": "text/x-python",
   "name": "python",
   "nbconvert_exporter": "python",
   "pygments_lexer": "ipython3",
   "version": "3.10.6"
  }
 },
 "nbformat": 4,
 "nbformat_minor": 5
}
