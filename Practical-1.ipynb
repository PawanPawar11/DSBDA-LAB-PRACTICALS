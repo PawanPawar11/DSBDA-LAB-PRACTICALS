{
 "cells": [
  {
   "cell_type": "code",
   "execution_count": 1,
   "id": "2a5b9c3b-30ef-45f0-a373-1fb37526a7c2",
   "metadata": {},
   "outputs": [],
   "source": [
    "import pandas as pd"
   ]
  },
  {
   "cell_type": "code",
   "execution_count": 2,
   "id": "18e853a0-8ca4-412b-8e39-4b24b189f3a7",
   "metadata": {},
   "outputs": [],
   "source": [
    "import numpy as np"
   ]
  },
  {
   "cell_type": "code",
   "execution_count": 3,
   "id": "47316928-7bc7-49c5-93d3-e68215774ff7",
   "metadata": {},
   "outputs": [],
   "source": [
    "import matplotlib.pyplot as plt"
   ]
  },
  {
   "cell_type": "code",
   "execution_count": 4,
   "id": "e77ddd24-768b-406d-ae2d-8054b32b6d8c",
   "metadata": {},
   "outputs": [],
   "source": [
    "import seaborn as sns"
   ]
  },
  {
   "cell_type": "code",
   "execution_count": 5,
   "id": "b5cb0d3d-15b8-404b-809d-3592cf6ede7a",
   "metadata": {},
   "outputs": [],
   "source": [
    "data = pd.read_csv('titanic.csv')"
   ]
  },
  {
   "cell_type": "code",
   "execution_count": 6,
   "id": "f5680f08-fdee-405d-9c77-7b8646036aa2",
   "metadata": {},
   "outputs": [
    {
     "name": "stdout",
     "output_type": "stream",
     "text": [
      "First 5 rows of the dataset:\n"
     ]
    }
   ],
   "source": [
    "print(\"First 5 rows of the dataset:\")"
   ]
  },
  {
   "cell_type": "code",
   "execution_count": 7,
   "id": "b0bab74f-7346-43c6-aff2-739542870bee",
   "metadata": {},
   "outputs": [
    {
     "name": "stdout",
     "output_type": "stream",
     "text": [
      "   PassengerId  Survived  Pclass     Sex   Age  SibSp  Parch     Fare  \\\n",
      "0            1         0       3    Male  22.0      1      0   7.2500   \n",
      "1            2         1       1  female  38.0      1      0  71.2833   \n",
      "2            3         1       3  female  26.0      0      0   7.9250   \n",
      "3            4         1       1  female  35.0      1      0  53.1000   \n",
      "4            5         0       3    Male  35.0      0      0   8.0500   \n",
      "\n",
      "   Embarked  \n",
      "0         3  \n",
      "1         1  \n",
      "2         3  \n",
      "3         3  \n",
      "4         3  \n"
     ]
    }
   ],
   "source": [
    "print(data.head())"
   ]
  },
  {
   "cell_type": "code",
   "execution_count": 8,
   "id": "85bc117b-2b4e-4512-84dd-0b13f8c0d4d4",
   "metadata": {},
   "outputs": [
    {
     "name": "stdout",
     "output_type": "stream",
     "text": [
      "\n",
      "Missing values in each column:\n"
     ]
    }
   ],
   "source": [
    "print(\"\\nMissing values in each column:\")"
   ]
  },
  {
   "cell_type": "code",
   "execution_count": 11,
   "id": "b151a8dc-0760-4e10-a385-1e4b5a450498",
   "metadata": {},
   "outputs": [
    {
     "name": "stdout",
     "output_type": "stream",
     "text": [
      "PassengerId    0\n",
      "Survived       0\n",
      "Pclass         0\n",
      "Sex            0\n",
      "Age            0\n",
      "SibSp          0\n",
      "Parch          0\n",
      "Fare           0\n",
      "Embarked       0\n",
      "dtype: int64\n"
     ]
    }
   ],
   "source": [
    "print(data.isnull().sum())"
   ]
  },
  {
   "cell_type": "code",
   "execution_count": 12,
   "id": "836899c9-4b1e-4f01-ab6e-a622b22cb2c0",
   "metadata": {},
   "outputs": [
    {
     "name": "stdout",
     "output_type": "stream",
     "text": [
      "\n",
      "Descriptive statistics:\n"
     ]
    }
   ],
   "source": [
    "print(\"\\nDescriptive statistics:\")"
   ]
  },
  {
   "cell_type": "code",
   "execution_count": 17,
   "id": "42726396-b226-4026-93f1-ac3af83b8c6c",
   "metadata": {},
   "outputs": [
    {
     "name": "stdout",
     "output_type": "stream",
     "text": [
      "        PassengerId    Survived      Pclass   Sex         Age       SibSp  \\\n",
      "count    889.000000  889.000000  889.000000   889  889.000000  889.000000   \n",
      "unique          NaN         NaN         NaN     2         NaN         NaN   \n",
      "top             NaN         NaN         NaN  Male         NaN         NaN   \n",
      "freq            NaN         NaN         NaN   577         NaN         NaN   \n",
      "mean     446.000000    0.382452    2.311586   NaN   35.686355    0.524184   \n",
      "std      256.998173    0.486260    0.834700   NaN   17.756733    1.103705   \n",
      "min        1.000000    0.000000    1.000000   NaN    0.420000    0.000000   \n",
      "25%      224.000000    0.000000    2.000000   NaN   22.000000    0.000000   \n",
      "50%      446.000000    0.000000    3.000000   NaN   32.000000    0.000000   \n",
      "75%      668.000000    1.000000    3.000000   NaN   54.000000    1.000000   \n",
      "max      891.000000    1.000000    3.000000   NaN   80.000000    8.000000   \n",
      "\n",
      "             Parch        Fare    Embarked  \n",
      "count   889.000000  889.000000  889.000000  \n",
      "unique         NaN         NaN         NaN  \n",
      "top            NaN         NaN         NaN  \n",
      "freq           NaN         NaN         NaN  \n",
      "mean      0.382452   32.096681    2.535433  \n",
      "std       0.806761   49.697504    0.792088  \n",
      "min       0.000000    0.000000    1.000000  \n",
      "25%       0.000000    7.895800    2.000000  \n",
      "50%       0.000000   14.454200    3.000000  \n",
      "75%       0.000000   31.000000    3.000000  \n",
      "max       6.000000  512.329200    3.000000  \n"
     ]
    }
   ],
   "source": [
    "print(data.describe(include='all'))"
   ]
  },
  {
   "cell_type": "code",
   "execution_count": 18,
   "id": "58516739-1d19-4f57-9897-9c36de276006",
   "metadata": {},
   "outputs": [
    {
     "name": "stdout",
     "output_type": "stream",
     "text": [
      "\n",
      "Dimensions of the DataFrame:\n"
     ]
    }
   ],
   "source": [
    "print(\"\\nDimensions of the DataFrame:\")"
   ]
  },
  {
   "cell_type": "code",
   "execution_count": 19,
   "id": "d81af0df-cf6d-42fe-8846-ddc46629f247",
   "metadata": {},
   "outputs": [
    {
     "name": "stdout",
     "output_type": "stream",
     "text": [
      "(889, 9)\n"
     ]
    }
   ],
   "source": [
    "print(data.shape)"
   ]
  },
  {
   "cell_type": "code",
   "execution_count": 24,
   "id": "c8319955-596c-47b0-8cc4-f7963540f38d",
   "metadata": {},
   "outputs": [
    {
     "name": "stdout",
     "output_type": "stream",
     "text": [
      "\n",
      "Data types of each column:\n"
     ]
    }
   ],
   "source": [
    "print(\"\\nData types of each column:\")"
   ]
  },
  {
   "cell_type": "code",
   "execution_count": 25,
   "id": "4519ab7a-2411-4092-a14a-96e081886dfc",
   "metadata": {},
   "outputs": [
    {
     "name": "stdout",
     "output_type": "stream",
     "text": [
      "PassengerId      int64\n",
      "Survived         int64\n",
      "Pclass           int64\n",
      "Sex             object\n",
      "Age            float64\n",
      "SibSp            int64\n",
      "Parch            int64\n",
      "Fare           float64\n",
      "Embarked         int64\n",
      "dtype: object\n"
     ]
    }
   ],
   "source": [
    "print(data.dtypes)"
   ]
  },
  {
   "cell_type": "code",
   "execution_count": 26,
   "id": "14c1ffdb-0f96-4a7b-b485-35e0feee7581",
   "metadata": {},
   "outputs": [],
   "source": [
    "data['Survived'] = data['Survived'].astype('category')"
   ]
  },
  {
   "cell_type": "code",
   "execution_count": 27,
   "id": "7f84153c-5f43-4dbd-9c67-ddb4d4165027",
   "metadata": {},
   "outputs": [],
   "source": [
    "data['Pclass'] = data['Pclass'].astype('category')"
   ]
  },
  {
   "cell_type": "code",
   "execution_count": 28,
   "id": "d92c00cc-ec48-4e82-8eb1-c5aff6b0a326",
   "metadata": {},
   "outputs": [
    {
     "name": "stdout",
     "output_type": "stream",
     "text": [
      "\n",
      "Data types after conversion:\n",
      "PassengerId       int64\n",
      "Survived       category\n",
      "Pclass         category\n",
      "Sex              object\n",
      "Age             float64\n",
      "SibSp             int64\n",
      "Parch             int64\n",
      "Fare            float64\n",
      "Embarked          int64\n",
      "dtype: object\n"
     ]
    }
   ],
   "source": [
    "print(\"\\nData types after conversion:\")\n",
    "print(data.dtypes)"
   ]
  },
  {
   "cell_type": "code",
   "execution_count": null,
   "id": "08f43dd5-8a06-44c0-bbb4-6f29a7f531c5",
   "metadata": {},
   "outputs": [],
   "source": []
  }
 ],
 "metadata": {
  "kernelspec": {
   "display_name": "Python 3 (ipykernel)",
   "language": "python",
   "name": "python3"
  },
  "language_info": {
   "codemirror_mode": {
    "name": "ipython",
    "version": 3
   },
   "file_extension": ".py",
   "mimetype": "text/x-python",
   "name": "python",
   "nbconvert_exporter": "python",
   "pygments_lexer": "ipython3",
   "version": "3.10.6"
  }
 },
 "nbformat": 4,
 "nbformat_minor": 5
}
