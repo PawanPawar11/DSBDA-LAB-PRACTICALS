{
 "cells": [
  {
   "cell_type": "code",
   "execution_count": 2,
   "id": "5f5f0b18-a3a9-4347-bd47-d2e3f851f57f",
   "metadata": {},
   "outputs": [
    {
     "name": "stdout",
     "output_type": "stream",
     "text": [
      "Requirement already satisfied: nltk in c:\\users\\athar\\anaconda3\\lib\\site-packages (3.8.1)\n",
      "Requirement already satisfied: click in c:\\users\\athar\\anaconda3\\lib\\site-packages (from nltk) (8.1.7)\n",
      "Requirement already satisfied: joblib in c:\\users\\athar\\anaconda3\\lib\\site-packages (from nltk) (1.2.0)\n",
      "Requirement already satisfied: regex>=2021.8.3 in c:\\users\\athar\\anaconda3\\lib\\site-packages (from nltk) (2023.10.3)\n",
      "Requirement already satisfied: tqdm in c:\\users\\athar\\anaconda3\\lib\\site-packages (from nltk) (4.65.0)\n",
      "Requirement already satisfied: colorama in c:\\users\\athar\\anaconda3\\lib\\site-packages (from click->nltk) (0.4.6)\n",
      "Note: you may need to restart the kernel to use updated packages.\n"
     ]
    }
   ],
   "source": [
    "pip install nltk\n"
   ]
  },
  {
   "cell_type": "code",
   "execution_count": 7,
   "id": "68bc1fd2-8b15-4755-be16-c187bd0226d7",
   "metadata": {},
   "outputs": [
    {
     "name": "stderr",
     "output_type": "stream",
     "text": [
      "[nltk_data] Downloading package punkt to\n",
      "[nltk_data]     C:\\Users\\athar\\AppData\\Roaming\\nltk_data...\n",
      "[nltk_data]   Unzipping tokenizers\\punkt.zip.\n"
     ]
    },
    {
     "data": {
      "text/plain": [
       "True"
      ]
     },
     "execution_count": 7,
     "metadata": {},
     "output_type": "execute_result"
    }
   ],
   "source": [
    "import nltk\n",
    "nltk.download('punkt')"
   ]
  },
  {
   "cell_type": "code",
   "execution_count": 13,
   "id": "8e0f5440-fde3-4afb-be17-7042a53bba60",
   "metadata": {},
   "outputs": [
    {
     "name": "stderr",
     "output_type": "stream",
     "text": [
      "[nltk_data] Downloading package stopwords to\n",
      "[nltk_data]     C:\\Users\\athar\\AppData\\Roaming\\nltk_data...\n",
      "[nltk_data]   Unzipping corpora\\stopwords.zip.\n"
     ]
    },
    {
     "data": {
      "text/plain": [
       "True"
      ]
     },
     "execution_count": 13,
     "metadata": {},
     "output_type": "execute_result"
    }
   ],
   "source": [
    "nltk.download('stopwords')"
   ]
  },
  {
   "cell_type": "code",
   "execution_count": 90,
   "id": "0dd4df75-43fe-4978-a488-c4032d46a755",
   "metadata": {},
   "outputs": [
    {
     "name": "stdout",
     "output_type": "stream",
     "text": [
      "['motorolla', 'is', 'better', 'brand', 'currently', 'which', 'is', 'capturing', 'the', 'market']\n"
     ]
    }
   ],
   "source": [
    "from nltk.tokenize import word_tokenize\n",
    "tokenized_word=nltk.word_tokenize(\"motorolla is better brand currently which is capturing the market \")\n",
    "print(tokenized_word)"
   ]
  },
  {
   "cell_type": "code",
   "execution_count": null,
   "id": "fdc64488-cb09-4807-a2b5-2ec544d98f5c",
   "metadata": {},
   "outputs": [],
   "source": []
  },
  {
   "cell_type": "code",
   "execution_count": 91,
   "id": "c54f5483-703e-4cb0-8c1d-5aa31062fdc0",
   "metadata": {},
   "outputs": [
    {
     "name": "stdout",
     "output_type": "stream",
     "text": [
      "Tokenized word: ['motorolla', 'is', 'better', 'brand', 'currently', 'which', 'is', 'capturing', 'the', 'market']\n",
      "Filterd word: ['motorolla', 'better', 'brand', 'currently', 'capturing', 'market']\n"
     ]
    }
   ],
   "source": [
    "filtered_word=[]\n",
    "for w in tokenized_word:\n",
    "    if w not in stop_words:\n",
    "        filtered_word.append(w)\n",
    "print(\"Tokenized word:\",tokenized_word)\n",
    "print(\"Filterd word:\",filtered_word)"
   ]
  },
  {
   "cell_type": "code",
   "execution_count": 92,
   "id": "41ca091a-a1d1-42f6-9f1a-b4a1bcd8c0ba",
   "metadata": {
    "scrolled": true
   },
   "outputs": [
    {
     "name": "stdout",
     "output_type": "stream",
     "text": [
      "Filtered Sentence: ['motorolla', 'better', 'brand', 'currently', 'capturing', 'market']\n",
      "Stemmed Sentence: ['motorolla', 'better', 'brand', 'current', 'captur', 'market']\n"
     ]
    }
   ],
   "source": [
    "from nltk.stem import PorterStemmer\n",
    "from nltk.tokenize import sent_tokenize, word_tokenize\n",
    "ps = PorterStemmer()\n",
    "stemmed_words=[]\n",
    "for w in filtered_word:\n",
    "    stemmed_words.append(ps.stem(w))\n",
    "\n",
    "print(\"Filtered Sentence:\",filtered_word)\n",
    "print(\"Stemmed Sentence:\",stemmed_words)"
   ]
  },
  {
   "cell_type": "code",
   "execution_count": 93,
   "id": "279b9d67-c9d8-4109-9fa1-d18cfe8b76c2",
   "metadata": {},
   "outputs": [
    {
     "name": "stdout",
     "output_type": "stream",
     "text": [
      "lemmatized words:  ['motorolla', 'better', 'brand', 'currently', 'capture', 'market']\n",
      "Stemmed Sentence: ['motorolla', 'better', 'brand', 'current', 'captur', 'market']\n"
     ]
    }
   ],
   "source": [
    "from nltk.stem.wordnet import WordNetLemmatizer\n",
    "lem = WordNetLemmatizer()\n",
    "from nltk.stem.porter import PorterStemmer\n",
    "stem = PorterStemmer()\n",
    "lemmatize_words=[]\n",
    "for w in filtered_word:\n",
    "   lemmatize_words.append(lem.lemmatize(w, \"v\"))\n",
    "print(\"lemmatized words: \" , lemmatize_words)\n",
    "print(\"Stemmed Sentence:\",stemmed_words)\n",
    "\n",
    "\n",
    "#print(\"Lemmatized Word:\",lem.lemmatize(word,\"v\"))\n",
    "#print(\"Stemmed Word:\",stem.stem(word))"
   ]
  },
  {
   "cell_type": "code",
   "execution_count": 94,
   "id": "1759fe47-1794-4692-b8a6-885ea7c23eb2",
   "metadata": {},
   "outputs": [
    {
     "name": "stderr",
     "output_type": "stream",
     "text": [
      "[nltk_data] Downloading package averaged_perceptron_tagger to\n",
      "[nltk_data]     C:\\Users\\athar\\AppData\\Roaming\\nltk_data...\n",
      "[nltk_data]   Package averaged_perceptron_tagger is already up-to-\n",
      "[nltk_data]       date!\n"
     ]
    },
    {
     "data": {
      "text/plain": [
       "True"
      ]
     },
     "execution_count": 94,
     "metadata": {},
     "output_type": "execute_result"
    }
   ],
   "source": [
    "nltk.download('averaged_perceptron_tagger')"
   ]
  },
  {
   "cell_type": "code",
   "execution_count": 97,
   "id": "a96c81ff-9a05-4659-8f08-46d5ab6211ca",
   "metadata": {},
   "outputs": [
    {
     "data": {
      "text/plain": [
       "[('motorolla', 'NN'),\n",
       " ('is', 'VBZ'),\n",
       " ('better', 'RBR'),\n",
       " ('brand', 'NN'),\n",
       " ('currently', 'RB'),\n",
       " ('which', 'WDT'),\n",
       " ('is', 'VBZ'),\n",
       " ('capturing', 'VBG'),\n",
       " ('the', 'DT'),\n",
       " ('market', 'NN')]"
      ]
     },
     "execution_count": 97,
     "metadata": {},
     "output_type": "execute_result"
    }
   ],
   "source": [
    "nltk.pos_tag(tokenized_word)"
   ]
  },
  {
   "cell_type": "code",
   "execution_count": 101,
   "id": "479e616e-4170-4e22-ad72-1b9ddbf2bdb8",
   "metadata": {},
   "outputs": [
    {
     "name": "stdout",
     "output_type": "stream",
     "text": [
      "\n",
      "TF-IDF Representation:\n",
      "Terms: ['analysis' 'applications' 'chatbots' 'enables' 'human' 'includes'\n",
      " 'language' 'learning' 'lemmatization' 'like' 'machine' 'machines' 'nlp'\n",
      " 'processing' 'sentiment' 'stemming' 'text' 'tokenization' 'understand'\n",
      " 'used']\n",
      "TF-IDF Matrix:\n",
      "[[0.         0.         0.         0.42339448 0.42339448 0.\n",
      "  0.42339448 0.         0.         0.         0.         0.42339448\n",
      "  0.32200242 0.         0.         0.         0.         0.\n",
      "  0.42339448 0.        ]\n",
      " [0.34142622 0.34142622 0.34142622 0.         0.         0.\n",
      "  0.         0.34142622 0.         0.34142622 0.34142622 0.\n",
      "  0.25966344 0.         0.34142622 0.         0.         0.\n",
      "  0.         0.34142622]\n",
      " [0.         0.         0.         0.         0.         0.40824829\n",
      "  0.         0.         0.40824829 0.         0.         0.\n",
      "  0.         0.40824829 0.         0.40824829 0.40824829 0.40824829\n",
      "  0.         0.        ]]\n"
     ]
    }
   ],
   "source": [
    "from sklearn.naive_bayes import MultinomialNB\n",
    "\n",
    "from sklearn import metrics\n",
    "from sklearn.feature_extraction.text import TfidfVectorizer\n",
    "\n",
    "documents = [\n",
    "    \"NLP enables machines to understand human language.\",\n",
    "    \"Machine learning is used in NLP applications like chatbots and sentiment analysis.\",\n",
    "    \"Text processing includes tokenization, stemming, and lemmatization.\"\n",
    "]\n",
    "\n",
    "vectorizer = TfidfVectorizer(stop_words='english')\n",
    "tfidf_matrix = vectorizer.fit_transform(documents)\n",
    "\n",
    "\n",
    "tfidf_array = tfidf_matrix.toarray()\n",
    "terms = vectorizer.get_feature_names_out()\n",
    "\n",
    "print(\"\\nTF-IDF Representation:\")\n",
    "print(f\"Terms: {terms}\")\n",
    "print(f\"TF-IDF Matrix:\\n{tfidf_array}\")\n"
   ]
  },
  {
   "cell_type": "code",
   "execution_count": 102,
   "id": "49b48a6b-e2c3-4a63-b3fa-dc7ae17fb7bb",
   "metadata": {},
   "outputs": [
    {
     "name": "stdout",
     "output_type": "stream",
     "text": [
      "Requirement already satisfied: nbconvert in c:\\users\\athar\\anaconda3\\lib\\site-packages (7.10.0)Note: you may need to restart the kernel to use updated packages.\n",
      "\n",
      "Requirement already satisfied: beautifulsoup4 in c:\\users\\athar\\anaconda3\\lib\\site-packages (from nbconvert) (4.12.2)\n",
      "Requirement already satisfied: bleach!=5.0.0 in c:\\users\\athar\\anaconda3\\lib\\site-packages (from nbconvert) (4.1.0)\n",
      "Requirement already satisfied: defusedxml in c:\\users\\athar\\anaconda3\\lib\\site-packages (from nbconvert) (0.7.1)\n",
      "Requirement already satisfied: jinja2>=3.0 in c:\\users\\athar\\anaconda3\\lib\\site-packages (from nbconvert) (3.1.3)\n",
      "Requirement already satisfied: jupyter-core>=4.7 in c:\\users\\athar\\anaconda3\\lib\\site-packages (from nbconvert) (5.5.0)\n",
      "Requirement already satisfied: jupyterlab-pygments in c:\\users\\athar\\anaconda3\\lib\\site-packages (from nbconvert) (0.1.2)\n",
      "Requirement already satisfied: markupsafe>=2.0 in c:\\users\\athar\\anaconda3\\lib\\site-packages (from nbconvert) (2.1.3)\n",
      "Requirement already satisfied: mistune<4,>=2.0.3 in c:\\users\\athar\\anaconda3\\lib\\site-packages (from nbconvert) (2.0.4)\n",
      "Requirement already satisfied: nbclient>=0.5.0 in c:\\users\\athar\\anaconda3\\lib\\site-packages (from nbconvert) (0.8.0)\n",
      "Requirement already satisfied: nbformat>=5.7 in c:\\users\\athar\\anaconda3\\lib\\site-packages (from nbconvert) (5.9.2)\n",
      "Requirement already satisfied: packaging in c:\\users\\athar\\anaconda3\\lib\\site-packages (from nbconvert) (23.1)\n",
      "Requirement already satisfied: pandocfilters>=1.4.1 in c:\\users\\athar\\anaconda3\\lib\\site-packages (from nbconvert) (1.5.0)\n",
      "Requirement already satisfied: pygments>=2.4.1 in c:\\users\\athar\\anaconda3\\lib\\site-packages (from nbconvert) (2.15.1)\n",
      "Requirement already satisfied: tinycss2 in c:\\users\\athar\\anaconda3\\lib\\site-packages (from nbconvert) (1.2.1)\n",
      "Requirement already satisfied: traitlets>=5.1 in c:\\users\\athar\\anaconda3\\lib\\site-packages (from nbconvert) (5.7.1)\n",
      "Requirement already satisfied: six>=1.9.0 in c:\\users\\athar\\anaconda3\\lib\\site-packages (from bleach!=5.0.0->nbconvert) (1.16.0)\n",
      "Requirement already satisfied: webencodings in c:\\users\\athar\\anaconda3\\lib\\site-packages (from bleach!=5.0.0->nbconvert) (0.5.1)\n",
      "Requirement already satisfied: platformdirs>=2.5 in c:\\users\\athar\\anaconda3\\lib\\site-packages (from jupyter-core>=4.7->nbconvert) (3.10.0)\n",
      "Requirement already satisfied: pywin32>=300 in c:\\users\\athar\\anaconda3\\lib\\site-packages (from jupyter-core>=4.7->nbconvert) (305.1)\n",
      "Requirement already satisfied: jupyter-client>=6.1.12 in c:\\users\\athar\\anaconda3\\lib\\site-packages (from nbclient>=0.5.0->nbconvert) (8.6.0)\n",
      "Requirement already satisfied: fastjsonschema in c:\\users\\athar\\anaconda3\\lib\\site-packages (from nbformat>=5.7->nbconvert) (2.16.2)\n",
      "Requirement already satisfied: jsonschema>=2.6 in c:\\users\\athar\\anaconda3\\lib\\site-packages (from nbformat>=5.7->nbconvert) (4.19.2)\n",
      "Requirement already satisfied: soupsieve>1.2 in c:\\users\\athar\\anaconda3\\lib\\site-packages (from beautifulsoup4->nbconvert) (2.5)\n",
      "Requirement already satisfied: attrs>=22.2.0 in c:\\users\\athar\\anaconda3\\lib\\site-packages (from jsonschema>=2.6->nbformat>=5.7->nbconvert) (23.1.0)\n",
      "Requirement already satisfied: jsonschema-specifications>=2023.03.6 in c:\\users\\athar\\anaconda3\\lib\\site-packages (from jsonschema>=2.6->nbformat>=5.7->nbconvert) (2023.7.1)\n",
      "Requirement already satisfied: referencing>=0.28.4 in c:\\users\\athar\\anaconda3\\lib\\site-packages (from jsonschema>=2.6->nbformat>=5.7->nbconvert) (0.30.2)\n",
      "Requirement already satisfied: rpds-py>=0.7.1 in c:\\users\\athar\\anaconda3\\lib\\site-packages (from jsonschema>=2.6->nbformat>=5.7->nbconvert) (0.10.6)\n",
      "Requirement already satisfied: python-dateutil>=2.8.2 in c:\\users\\athar\\anaconda3\\lib\\site-packages (from jupyter-client>=6.1.12->nbclient>=0.5.0->nbconvert) (2.8.2)\n",
      "Requirement already satisfied: pyzmq>=23.0 in c:\\users\\athar\\anaconda3\\lib\\site-packages (from jupyter-client>=6.1.12->nbclient>=0.5.0->nbconvert) (25.1.2)\n",
      "Requirement already satisfied: tornado>=6.2 in c:\\users\\athar\\anaconda3\\lib\\site-packages (from jupyter-client>=6.1.12->nbclient>=0.5.0->nbconvert) (6.3.3)\n"
     ]
    }
   ],
   "source": [
    "pip install nbconvert"
   ]
  }
 ],
 "metadata": {
  "kernelspec": {
   "display_name": "Python 3 (ipykernel)",
   "language": "python",
   "name": "python3"
  },
  "language_info": {
   "codemirror_mode": {
    "name": "ipython",
    "version": 3
   },
   "file_extension": ".py",
   "mimetype": "text/x-python",
   "name": "python",
   "nbconvert_exporter": "python",
   "pygments_lexer": "ipython3",
   "version": "3.10.6"
  }
 },
 "nbformat": 4,
 "nbformat_minor": 5
}
